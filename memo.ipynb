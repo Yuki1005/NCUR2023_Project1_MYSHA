{
 "cells": [
  {
   "cell_type": "code",
   "execution_count": 7,
   "metadata": {},
   "outputs": [
    {
     "name": "stdout",
     "output_type": "stream",
     "text": [
      "I100\n"
     ]
    }
   ],
   "source": [
    "a = input()\n",
    "if a in [\"50\",\"51\",\"55\"]:\n",
    "    aaa = \"D\" + a\n",
    "else:\n",
    "    aaa = \"I\" + a\n",
    "print(aaa)"
   ]
  }
 ],
 "metadata": {
  "kernelspec": {
   "display_name": "Python 3.8.8 ('base')",
   "language": "python",
   "name": "python3"
  },
  "language_info": {
   "codemirror_mode": {
    "name": "ipython",
    "version": 3
   },
   "file_extension": ".py",
   "mimetype": "text/x-python",
   "name": "python",
   "nbconvert_exporter": "python",
   "pygments_lexer": "ipython3",
   "version": "3.8.8"
  },
  "orig_nbformat": 4,
  "vscode": {
   "interpreter": {
    "hash": "15da4853c65c48902937492e4bf2a8574159c389b4b78f29cb9495cbc07c5b2d"
   }
  }
 },
 "nbformat": 4,
 "nbformat_minor": 2
}
