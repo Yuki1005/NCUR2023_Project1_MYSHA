{
 "cells": [
  {
   "cell_type": "code",
   "execution_count": 1,
   "metadata": {},
   "outputs": [
    {
     "name": "stdout",
     "output_type": "stream",
     "text": [
      "客No  到着 開始 窓口 注文  調理  受取 待ち\n",
      "No 1    9    9    1 定食    60   69    0\n",
      "No 2   18   18    2 カレー   20   38    0\n",
      "No 3   30   38    2 そば    30   68    8\n",
      "No 4   67   68    2 定食    60  128    0\n",
      "No 5   84   84    1 カレー   20  104    0\n",
      "No 6   91  104    1 定食    60  164   13\n",
      "No 7   95  128    2 定食    60  188   33\n",
      "No 8  101  164    1 定食    60  224   63\n",
      "No 9  142  188    2 定食    60  248   45\n",
      "No10  144  224    1 そば    30  254   80\n",
      "No11  159  248    2 定食    60  308   89\n",
      "No12  182  254    1 カレー   20  274   71\n",
      "No13  192  274    1 定食    60  334   82\n",
      "No14  205  308    2 ラーメン  50  358  103\n",
      "No15  211  334    1 定食    60  394  123\n",
      "No16  214  358    2 定食    60  418  143\n",
      "No17  256  394    1 カレー   20  414  137\n",
      "No18  268  414    1 ラーメン  50  464  146\n",
      "No19  278  418    2 カレー   20  438  140\n",
      "No20  284  438    2 ラーメン  50  488  153\n"
     ]
    }
   ],
   "source": [
    "import random\n",
    "import math\n",
    "\n",
    "# パラメータを設定する\n",
    "lam = 4\n",
    "num = 20\n",
    "counter = int(input(\"窓口の個数\"))\n",
    "menu = [ ('うどん',  0.15, 40 ),\n",
    "        ('そば' ,  0.1 , 30 ),\n",
    "        ('ラーメン', 0.2 , 50 ),\n",
    "        ('カレー',  0.25, 20 ),\n",
    "        ('定食',  0.3 , 60 ) ]\n",
    "\n",
    "# 初期値を決める\n",
    "arrival_time = 0\n",
    "end_time = [ 0 ] * counter\n",
    "print( '客No  到着 開始 窓口 注文  調理  受取 待ち' )\n",
    "\n",
    "# お客さんごとにシミュレーションする\n",
    "for i in range( 1, num + 1, 1 ):\n",
    "    # お客さんが来る時刻を決める\n",
    "    r = random.random()\n",
    "    interval = -60 * math.log( 1 - r ) / lam\n",
    "    arrival_time += interval\n",
    "    # お客さんが並ぶ窓口を決める\n",
    "    counter_no, mi = 0, end_time[0]\n",
    "    for j, e in enumerate( end_time[1:], 1 ):\n",
    "        if mi > e:\n",
    "            counter_no, mi = j, e\n",
    "\n",
    "    # お客さんが注文するものを決める\n",
    "    r = random.random()\n",
    "    probability = 0\n",
    "    for item in menu:\n",
    "        if probability > r:\n",
    "            break\n",
    "        probability += item[1]\n",
    "\n",
    "    # 時間を計算する\n",
    "    start_time = arrival_time if arrival_time > end_time[counter_no] else end_time[counter_no]\n",
    "    end_time[counter_no] = start_time + item[2]\n",
    "    wait_time = start_time - arrival_time\n",
    "    # お客さんごとに表示する\n",
    "    print( 'No{:>2d} {:>4.0f} {:>4.0f}    {} {:<5} {:>2d} {:>4.0f} {:>4.0f}'\n",
    "        .format( i, arrival_time, start_time, counter_no+1, item[0], item[2], end_time[counter_no], wait_time ) )"
   ]
  }
 ],
 "metadata": {
  "kernelspec": {
   "display_name": "Python 3.8.8 ('base')",
   "language": "python",
   "name": "python3"
  },
  "language_info": {
   "codemirror_mode": {
    "name": "ipython",
    "version": 3
   },
   "file_extension": ".py",
   "mimetype": "text/x-python",
   "name": "python",
   "nbconvert_exporter": "python",
   "pygments_lexer": "ipython3",
   "version": "3.8.8"
  },
  "orig_nbformat": 4,
  "vscode": {
   "interpreter": {
    "hash": "15da4853c65c48902937492e4bf2a8574159c389b4b78f29cb9495cbc07c5b2d"
   }
  }
 },
 "nbformat": 4,
 "nbformat_minor": 2
}
