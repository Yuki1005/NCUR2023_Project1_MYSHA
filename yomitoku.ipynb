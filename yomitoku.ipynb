{
 "cells": [
  {
   "cell_type": "code",
   "execution_count": 1,
   "metadata": {},
   "outputs": [
    {
     "name": "stdout",
     "output_type": "stream",
     "text": [
      "客No  到着 開始 窓口 注文  調理  受取 待ち\n",
      "No 1   10   10    1 定食    60   70    0\n",
      "No 2   19   19    2 カレー   20   39    0\n",
      "No 3   27   39    2 定食    60   99   13\n",
      "No 4   38   70    1 定食    60  130   32\n",
      "No 5   38   99    2 定食    60  159   61\n",
      "No 6   50  130    1 定食    60  190   80\n",
      "No 7   52  159    2 カレー   20  179  107\n",
      "No 8   56  179    2 そば    30  209  123\n",
      "No 9   92  190    1 定食    60  250   98\n",
      "No10  107  209    2 定食    60  269  102\n",
      "No11  131  250    1 ラーメン  50  300  119\n",
      "No12  159  269    2 定食    60  329  110\n",
      "No13  214  300    1 ラーメン  50  350   86\n",
      "No14  218  329    2 ラーメン  50  379  112\n",
      "No15  218  350    1 カレー   20  370  132\n",
      "No16  220  370    1 定食    60  430  150\n",
      "No17  269  379    2 定食    60  439  110\n",
      "No18  278  430    1 定食    60  490  152\n",
      "No19  320  439    2 そば    30  469  119\n",
      "No20  343  469    2 定食    60  529  126\n"
     ]
    }
   ],
   "source": [
    "import random\n",
    "import math\n",
    "\n",
    "# パラメータを設定する\n",
    "lam = 4\n",
    "num = 20\n",
    "counter = int(input(\"窓口の個数\"))\n",
    "menu = [ ('うどん',  0.15, 40 ),\n",
    "         ('そば' ,  0.1 , 30 ),\n",
    "         ('ラーメン', 0.2 , 50 ),\n",
    "         ('カレー',  0.25, 20 ),\n",
    "         ('定食',  0.3 , 60 ) ]\n",
    "\n",
    "# 初期値を決める\n",
    "arrival_time = 0\n",
    "end_time = [ 0 ] * counter\n",
    "print( '客No  到着 開始 窓口 注文  調理  受取 待ち' )\n",
    "\n",
    "# お客さんごとにシミュレーションする\n",
    "for i in range( 1, num + 1, 1 ):\n",
    "    # お客さんが来る時刻を決める\n",
    "    r = random.random()\n",
    "    interval = -60 * math.log( 1 - r ) / lam\n",
    "    arrival_time += interval\n",
    "    # お客さんが並ぶ窓口を決める\n",
    "    counter_no, mi = 0, end_time[0]\n",
    "    for j, e in enumerate( end_time[1:], 1 ):\n",
    "        if mi > e:\n",
    "            counter_no, mi = j, e\n",
    "\n",
    "    # お客さんが注文するものを決める\n",
    "    r = random.random()\n",
    "    probability = 0\n",
    "    for item in menu:\n",
    "        if probability > r:\n",
    "            break\n",
    "        probability += item[1]\n",
    "\n",
    "    # 時間を計算する\n",
    "    start_time = arrival_time if arrival_time > end_time[counter_no] else end_time[counter_no]\n",
    "    end_time[counter_no] = start_time + item[2]\n",
    "    wait_time = start_time - arrival_time\n",
    "    # お客さんごとに表示する\n",
    "    print( 'No{:>2d} {:>4.0f} {:>4.0f}    {} {:<5} {:>2d} {:>4.0f} {:>4.0f}'\n",
    "        .format( i, arrival_time, start_time, counter_no+1, item[0], item[2], end_time[counter_no], wait_time ) )"
   ]
  },
  {
   "cell_type": "code",
   "execution_count": 2,
   "metadata": {},
   "outputs": [
    {
     "name": "stdout",
     "output_type": "stream",
     "text": [
      "7:00\n"
     ]
    }
   ],
   "source": [
    "import csv \n",
    "with open(\"path.csv\",encoding=\"utf_8\") as f:\n",
    "    reader = csv.reader(f)\n",
    "    line=[row for row in reader]\n",
    "print(line[1][0])\n"
   ]
  }
 ],
 "metadata": {
  "kernelspec": {
   "display_name": "Python 3.8.8 ('base')",
   "language": "python",
   "name": "python3"
  },
  "language_info": {
   "codemirror_mode": {
    "name": "ipython",
    "version": 3
   },
   "file_extension": ".py",
   "mimetype": "text/x-python",
   "name": "python",
   "nbconvert_exporter": "python",
   "pygments_lexer": "ipython3",
   "version": "3.8.8"
  },
  "orig_nbformat": 4,
  "vscode": {
   "interpreter": {
    "hash": "15da4853c65c48902937492e4bf2a8574159c389b4b78f29cb9495cbc07c5b2d"
   }
  }
 },
 "nbformat": 4,
 "nbformat_minor": 2
}
