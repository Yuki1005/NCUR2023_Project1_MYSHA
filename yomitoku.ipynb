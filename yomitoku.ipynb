{
 "cells": [
  {
   "cell_type": "code",
   "execution_count": 9,
   "metadata": {},
   "outputs": [
    {
     "name": "stdout",
     "output_type": "stream",
     "text": [
      "客No  到着 開始 窓口 注文  調理  受取 待ち\n",
      "No 1    9    9    1 定食    60   69    0\n",
      "No 2   14   14    2 定食    60   74    0\n",
      "No 3   18   18    3 定食    60   78    0\n",
      "No 4   26   26    4 定食    60   86    0\n",
      "No 5   64   64    5 カレー   20   84    0\n",
      "No 6   70   70    1 そば    30  100    0\n",
      "No 7   82   82    2 定食    60  142    0\n",
      "No 8   83   83    3 定食    60  143    0\n",
      "No 9   95   95    5 定食    60  155    0\n",
      "No10   99   99    4 定食    60  159    0\n",
      "No11  109  109    1 カレー   20  129    0\n",
      "No12  169  169    1 定食    60  229    0\n",
      "No13  206  206    2 定食    60  266    0\n",
      "No14  223  223    3 定食    60  283    0\n",
      "No15  244  244    5 定食    60  304    0\n",
      "No16  258  258    4 定食    60  318    0\n",
      "No17  263  263    1 定食    60  323    0\n",
      "No18  269  269    2 そば    30  299    0\n",
      "No19  287  287    3 定食    60  347    0\n",
      "No20  297  299    2 定食    60  359    2\n"
     ]
    }
   ],
   "source": [
    "import random\n",
    "import math\n",
    "\n",
    "# パラメータを設定する\n",
    "lam = 4\n",
    "num = 20\n",
    "counter = int(input(\"窓口の個数\"))\n",
    "menu = [ ('うどん',  0.15, 40 ),\n",
    "         ('そば' ,  0.1 , 30 ),\n",
    "         ('ラーメン', 0.2 , 50 ),\n",
    "         ('カレー',  0.25, 20 ),\n",
    "         ('定食',  0.3 , 60 ) ]\n",
    "\n",
    "# 初期値を決める\n",
    "arrival_time = 0\n",
    "end_time = [ 0 ] * counter\n",
    "print( '客No  到着 開始 窓口 注文  調理  受取 待ち' )\n",
    "\n",
    "# お客さんごとにシミュレーションする\n",
    "for i in range( 1, num + 1, 1 ):\n",
    "    # お客さんが来る時刻を決める\n",
    "    r = random.random()\n",
    "    interval = -60 * math.log( 1 - r ) / lam\n",
    "    arrival_time += interval\n",
    "    # お客さんが並ぶ窓口を決める\n",
    "    counter_no, mi = 0, end_time[0]\n",
    "    for j, e in enumerate( end_time[1:], 1 ):\n",
    "        if mi > e:\n",
    "            counter_no, mi = j, e\n",
    "\n",
    "    # お客さんが注文するものを決める\n",
    "    r = random.random()\n",
    "    probability = 0\n",
    "    for item in menu:\n",
    "        if probability > r:\n",
    "            break\n",
    "        probability += item[1]\n",
    "\n",
    "    # 時間を計算する\n",
    "    start_time = arrival_time if arrival_time > end_time[counter_no] else end_time[counter_no]\n",
    "    end_time[counter_no] = start_time + item[2]\n",
    "    wait_time = start_time - arrival_time\n",
    "    # お客さんごとに表示する\n",
    "    print( 'No{:>2d} {:>4.0f} {:>4.0f}    {} {:<5} {:>2d} {:>4.0f} {:>4.0f}'\n",
    "        .format( i, arrival_time, start_time, counter_no+1, item[0], item[2], end_time[counter_no], wait_time ) )"
   ]
  },
  {
   "cell_type": "code",
   "execution_count": 5,
   "metadata": {},
   "outputs": [
    {
     "name": "stdout",
     "output_type": "stream",
     "text": [
      "7:00\n"
     ]
    }
   ],
   "source": [
    "import csv \n",
    "with open(\"path.csv\",encoding=\"utf_8\") as f:\n",
    "    reader = csv.reader(f)\n",
    "    line=[row for row in reader]\n",
    "print(line[1][0])\n"
   ]
  }
 ],
 "metadata": {
  "kernelspec": {
   "display_name": "Python 3.8.8 ('base')",
   "language": "python",
   "name": "python3"
  },
  "language_info": {
   "codemirror_mode": {
    "name": "ipython",
    "version": 3
   },
   "file_extension": ".py",
   "mimetype": "text/x-python",
   "name": "python",
   "nbconvert_exporter": "python",
   "pygments_lexer": "ipython3",
   "version": "3.8.8"
  },
  "orig_nbformat": 4,
  "vscode": {
   "interpreter": {
    "hash": "15da4853c65c48902937492e4bf2a8574159c389b4b78f29cb9495cbc07c5b2d"
   }
  }
 },
 "nbformat": 4,
 "nbformat_minor": 2
}
